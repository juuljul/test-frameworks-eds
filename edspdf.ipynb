{
 "cells": [
  {
   "cell_type": "markdown",
   "metadata": {},
   "source": [
    "# Description\n",
    "### Utilisation du framework [edspdf](https://github.com/aphp/edspdf) pour tester la détection automatique du layout des PDF. Ajustement du mask-classifier et ajout d'une ligne de code dans le fichier de configuration pour extraire correctement le corps du texte et le style."
   ]
  },
  {
   "cell_type": "markdown",
   "metadata": {},
   "source": [
    "## Extraction de texte et de style"
   ]
  },
  {
   "cell_type": "markdown",
   "metadata": {},
   "source": [
    "#### Chargement du modèle à partir du fichier de configuration"
   ]
  },
  {
   "cell_type": "code",
   "execution_count": 2,
   "metadata": {},
   "outputs": [],
   "source": [
    "import edspdf\n",
    "from pathlib import Path\n",
    "\n",
    "model = edspdf.load(\"config.cfg\") "
   ]
  },
  {
   "cell_type": "markdown",
   "metadata": {},
   "source": [
    "#### Récupération du courrier modèle de l'APHP en PDF"
   ]
  },
  {
   "cell_type": "code",
   "execution_count": 3,
   "metadata": {},
   "outputs": [],
   "source": [
    "# Get a PDF\n",
    "pdf = Path(\"letter.pdf\").read_bytes()\n",
    "pdf = model(pdf)\n",
    "\n",
    "body = pdf.aggregated_texts[\"body\"]\n",
    "\n",
    "text, style = body.text, body.properties"
   ]
  },
  {
   "cell_type": "markdown",
   "metadata": {},
   "source": [
    "#### Extraction de texte"
   ]
  },
  {
   "cell_type": "code",
   "execution_count": 5,
   "metadata": {},
   "outputs": [
    {
     "name": "stdout",
     "output_type": "stream",
     "text": [
      "Cher Pr ABC, Cher DEF,\n",
      "\n",
      "SANTÉ PUBLIQUE\n",
      "Nous souhaitons remercier le CSE pour son avis favorable quant à l’accès aux données de\n",
      "l’Entrepôt de Données de Santé du projet n° XXXX.\n",
      "\n",
      "Nous avons bien pris connaissance des conditions requises pour cet avis favorable, c’est\n",
      "pourquoi nous nous engageons par la présente à :\n",
      "\n",
      "• Informer individuellement les patients concernés par la recherche, admis à l'AP-HP\n",
      "avant juillet 2017, sortis vivants, et non réadmis depuis.\n",
      "\n",
      "• Effectuer une demande d'autorisation à la CNIL en cas d'appariement avec d’autres\n",
      "cohortes.\n",
      "\n",
      "Bien cordialement,\n"
     ]
    }
   ],
   "source": [
    "import pandas as pd\n",
    "\n",
    "print(text)"
   ]
  },
  {
   "cell_type": "markdown",
   "metadata": {},
   "source": [
    "#### Extraction de style"
   ]
  },
  {
   "cell_type": "code",
   "execution_count": 6,
   "metadata": {},
   "outputs": [
    {
     "name": "stdout",
     "output_type": "stream",
     "text": [
      "Empty DataFrame\n",
      "Columns: []\n",
      "Index: []\n"
     ]
    }
   ],
   "source": [
    "print(pd.DataFrame(style))"
   ]
  },
  {
   "cell_type": "markdown",
   "metadata": {},
   "source": [
    "> **Avec le fichier de configuration de base, deux problèmes se posent:** \n",
    ">- **pour l'extraction de texte, \"SANTÉ PUBLIQUE\" ne devrait pas apparaître.**\n",
    ">- **l'extraction de style ne semble pas fonctionner.**"
   ]
  },
  {
   "cell_type": "markdown",
   "metadata": {},
   "source": [
    "## Ajustement de mask-classifier"
   ]
  },
  {
   "cell_type": "markdown",
   "metadata": {},
   "source": [
    "Dans le fichier de configuration, x0, x1, y0, y1 sont les coordonnées qui encadrent la partie de la page où le texte est considéré comme important (le corps du texte).  \n",
    "Tout texte qui tombe en dehors de ces limites est étiqueté comme pollution. \n",
    "   \n",
    "> **On crée un nouveau fichier de configuration config_text où l'abcisse x0 passe de 0.2 à 0.3 (le corps démarre un peu plus à droite).**\n"
   ]
  },
  {
   "cell_type": "code",
   "execution_count": 7,
   "metadata": {},
   "outputs": [],
   "source": [
    "model = edspdf.load(\"config_text.cfg\")\n",
    "\n",
    "pdf = model(pdf)\n",
    "body = pdf.aggregated_texts[\"body\"]\n",
    "text, style = body.text, body.properties"
   ]
  },
  {
   "cell_type": "code",
   "execution_count": 8,
   "metadata": {},
   "outputs": [
    {
     "name": "stdout",
     "output_type": "stream",
     "text": [
      "Cher Pr ABC, Cher DEF,\n",
      "\n",
      "Nous souhaitons remercier le CSE pour son avis favorable quant à l’accès aux données de\n",
      "l’Entrepôt de Données de Santé du projet n° XXXX.\n",
      "\n",
      "Nous avons bien pris connaissance des conditions requises pour cet avis favorable, c’est\n",
      "pourquoi nous nous engageons par la présente à :\n",
      "\n",
      "• Informer individuellement les patients concernés par la recherche, admis à l'AP-HP\n",
      "avant juillet 2017, sortis vivants, et non réadmis depuis.\n",
      "\n",
      "• Effectuer une demande d'autorisation à la CNIL en cas d'appariement avec d’autres\n",
      "cohortes.\n",
      "\n",
      "Bien cordialement,\n"
     ]
    }
   ],
   "source": [
    "print(text)"
   ]
  },
  {
   "cell_type": "markdown",
   "metadata": {},
   "source": [
    "> **Comme on le souhaitait, SANTÉ PUBLIQUE ne figure plus dans le texte extrait.**"
   ]
  },
  {
   "cell_type": "markdown",
   "metadata": {},
   "source": [
    "Remarque: on pourrait aussi jouer sur le paramètre threshold (seuil) (threshold = 0.1 signifie que si un bloc de texte tombe partiellement à l'intérieur des limites du masque, il doit recouvrir au moins 10% de la zone pour être classé comme \"corps\")."
   ]
  },
  {
   "cell_type": "markdown",
   "metadata": {},
   "source": [
    "## Extraction du style"
   ]
  },
  {
   "cell_type": "markdown",
   "metadata": {},
   "source": [
    "C'est pdfminer-extractor qui permet l'extraction de style mais le composant ne semble pas fonctionner.  \n",
    "On crée un nouveau fichier de configuration config_text_style.cfg,\n",
    "\n",
    "> **on y ajoute la ligne de code extract_style = true pour forcer l'extraction.**"
   ]
  },
  {
   "cell_type": "code",
   "execution_count": 9,
   "metadata": {},
   "outputs": [],
   "source": [
    "model = edspdf.load(\"config_text_style.cfg\")\n",
    "\n",
    "pdf = model(pdf)\n",
    "body = pdf.aggregated_texts[\"body\"]\n",
    "text, style = body.text, body.properties"
   ]
  },
  {
   "cell_type": "code",
   "execution_count": 10,
   "metadata": {},
   "outputs": [
    {
     "name": "stdout",
     "output_type": "stream",
     "text": [
      "                                                                                          0\n",
      "0      TextProperties(italic=False, bold=False, begin=0, end=22, fontname='BCDFEE+Calibri')\n",
      "1     TextProperties(italic=False, bold=False, begin=24, end=90, fontname='BCDFEE+Calibri')\n",
      "2     TextProperties(italic=False, bold=False, begin=90, end=91, fontname='BCDHEE+Calibri')\n",
      "3    TextProperties(italic=False, bold=False, begin=91, end=111, fontname='BCDFEE+Calibri')\n",
      "4   TextProperties(italic=False, bold=False, begin=112, end=113, fontname='BCDFEE+Calibri')\n",
      "5   TextProperties(italic=False, bold=False, begin=113, end=114, fontname='BCDHEE+Calibri')\n",
      "6   TextProperties(italic=False, bold=False, begin=114, end=161, fontname='BCDFEE+Calibri')\n",
      "7   TextProperties(italic=False, bold=False, begin=163, end=247, fontname='BCDFEE+Calibri')\n",
      "8   TextProperties(italic=False, bold=False, begin=247, end=248, fontname='BCDHEE+Calibri')\n",
      "9   TextProperties(italic=False, bold=False, begin=248, end=251, fontname='BCDFEE+Calibri')\n",
      "10  TextProperties(italic=False, bold=False, begin=252, end=300, fontname='BCDFEE+Calibri')\n",
      "11        TextProperties(italic=False, bold=False, begin=302, end=303, fontname='SymbolMT')\n",
      "12  TextProperties(italic=False, bold=False, begin=304, end=386, fontname='BCDFEE+Calibri')\n",
      "13  TextProperties(italic=False, bold=False, begin=387, end=445, fontname='BCDFEE+Calibri')\n",
      "14        TextProperties(italic=False, bold=False, begin=447, end=448, fontname='SymbolMT')\n",
      "15  TextProperties(italic=False, bold=False, begin=449, end=523, fontname='BCDFEE+Calibri')\n",
      "16  TextProperties(italic=False, bold=False, begin=523, end=524, fontname='BCDHEE+Calibri')\n",
      "17  TextProperties(italic=False, bold=False, begin=524, end=530, fontname='BCDFEE+Calibri')\n",
      "18  TextProperties(italic=False, bold=False, begin=531, end=540, fontname='BCDFEE+Calibri')\n",
      "19  TextProperties(italic=False, bold=False, begin=542, end=560, fontname='BCDFEE+Calibri')\n"
     ]
    }
   ],
   "source": [
    "df = pd.DataFrame(style)\n",
    "print(df.to_string())"
   ]
  },
  {
   "cell_type": "markdown",
   "metadata": {},
   "source": [
    "> **Comme on le souhaitait, extract_style = true a permis de forcer l'extraction de style.**"
   ]
  }
 ],
 "metadata": {
  "kernelspec": {
   "display_name": "aphp",
   "language": "python",
   "name": "python3"
  },
  "language_info": {
   "codemirror_mode": {
    "name": "ipython",
    "version": 3
   },
   "file_extension": ".py",
   "mimetype": "text/x-python",
   "name": "python",
   "nbconvert_exporter": "python",
   "pygments_lexer": "ipython3",
   "version": "3.11.6"
  }
 },
 "nbformat": 4,
 "nbformat_minor": 2
}
